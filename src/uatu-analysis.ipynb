{
 "cells": [
  {
   "cell_type": "code",
   "execution_count": 1,
   "metadata": {},
   "outputs": [],
   "source": [
    "%matplotlib inline\n",
    "\n",
    "import pandas as pd\n",
    "import time\n",
    "import numpy as np\n",
    "import matplotlib.pyplot as plt\n",
    "import matplotlib.dates as mdate\n",
    "import seaborn as sns\n",
    "# plt.style.use('ggplot')"
   ]
  },
  {
   "cell_type": "code",
   "execution_count": 2,
   "metadata": {},
   "outputs": [],
   "source": [
    "namelist = ['name','timestamp','count']\n",
    "oo = pd.read_csv('~/projects/uatu/uatu.csv', index_col=False,names=namelist)"
   ]
  },
  {
   "cell_type": "code",
   "execution_count": 3,
   "metadata": {},
   "outputs": [],
   "source": [
    "df2 = oo.fillna(0)"
   ]
  },
  {
   "cell_type": "code",
   "execution_count": 4,
   "metadata": {},
   "outputs": [],
   "source": [
    "names = oo['name'].unique()"
   ]
  },
  {
   "cell_type": "code",
   "execution_count": 5,
   "metadata": {},
   "outputs": [
    {
     "data": {
      "text/plain": [
       "array(['camera_1', 'camera_2', 'camera_3', 'camera_4', 'camera_5',\n",
       "       'camera_6', 'camera_7', 'camera_8', 'camera_9', 'camera_10',\n",
       "       'camera_11', 'camera_12', 'camera_13', 'camera_14', 'camera_15',\n",
       "       'camera_16', 'camera_17', 'camera_18', 'camera_19', 'camera_20',\n",
       "       'camera_21', 'camera_22', 'camera_23', 'camera_24'], dtype=object)"
      ]
     },
     "execution_count": 5,
     "metadata": {},
     "output_type": "execute_result"
    }
   ],
   "source": [
    "names"
   ]
  },
  {
   "cell_type": "code",
   "execution_count": 7,
   "metadata": {},
   "outputs": [
    {
     "data": {
      "text/html": [
       "<div>\n",
       "<style scoped>\n",
       "    .dataframe tbody tr th:only-of-type {\n",
       "        vertical-align: middle;\n",
       "    }\n",
       "\n",
       "    .dataframe tbody tr th {\n",
       "        vertical-align: top;\n",
       "    }\n",
       "\n",
       "    .dataframe thead th {\n",
       "        text-align: right;\n",
       "    }\n",
       "</style>\n",
       "<table border=\"1\" class=\"dataframe\">\n",
       "  <thead>\n",
       "    <tr style=\"text-align: right;\">\n",
       "      <th></th>\n",
       "      <th>timestamp</th>\n",
       "      <th>count</th>\n",
       "    </tr>\n",
       "    <tr>\n",
       "      <th>name</th>\n",
       "      <th></th>\n",
       "      <th></th>\n",
       "    </tr>\n",
       "  </thead>\n",
       "  <tbody>\n",
       "    <tr>\n",
       "      <th>camera_1</th>\n",
       "      <td>1.579981e+09</td>\n",
       "      <td>NaN</td>\n",
       "    </tr>\n",
       "    <tr>\n",
       "      <th>camera_10</th>\n",
       "      <td>1.579981e+09</td>\n",
       "      <td>NaN</td>\n",
       "    </tr>\n",
       "    <tr>\n",
       "      <th>camera_11</th>\n",
       "      <td>1.579981e+09</td>\n",
       "      <td>2.0</td>\n",
       "    </tr>\n",
       "    <tr>\n",
       "      <th>camera_12</th>\n",
       "      <td>1.579981e+09</td>\n",
       "      <td>0.0</td>\n",
       "    </tr>\n",
       "    <tr>\n",
       "      <th>camera_13</th>\n",
       "      <td>1.579981e+09</td>\n",
       "      <td>4.0</td>\n",
       "    </tr>\n",
       "    <tr>\n",
       "      <th>camera_14</th>\n",
       "      <td>1.579981e+09</td>\n",
       "      <td>7.0</td>\n",
       "    </tr>\n",
       "    <tr>\n",
       "      <th>camera_15</th>\n",
       "      <td>1.579981e+09</td>\n",
       "      <td>9.0</td>\n",
       "    </tr>\n",
       "    <tr>\n",
       "      <th>camera_16</th>\n",
       "      <td>1.579981e+09</td>\n",
       "      <td>9.0</td>\n",
       "    </tr>\n",
       "    <tr>\n",
       "      <th>camera_17</th>\n",
       "      <td>1.579981e+09</td>\n",
       "      <td>9.0</td>\n",
       "    </tr>\n",
       "    <tr>\n",
       "      <th>camera_18</th>\n",
       "      <td>1.579981e+09</td>\n",
       "      <td>5.0</td>\n",
       "    </tr>\n",
       "    <tr>\n",
       "      <th>camera_19</th>\n",
       "      <td>1.579981e+09</td>\n",
       "      <td>6.0</td>\n",
       "    </tr>\n",
       "    <tr>\n",
       "      <th>camera_2</th>\n",
       "      <td>1.579981e+09</td>\n",
       "      <td>4.0</td>\n",
       "    </tr>\n",
       "    <tr>\n",
       "      <th>camera_20</th>\n",
       "      <td>1.579981e+09</td>\n",
       "      <td>3.0</td>\n",
       "    </tr>\n",
       "    <tr>\n",
       "      <th>camera_21</th>\n",
       "      <td>1.579981e+09</td>\n",
       "      <td>2.0</td>\n",
       "    </tr>\n",
       "    <tr>\n",
       "      <th>camera_22</th>\n",
       "      <td>1.579981e+09</td>\n",
       "      <td>5.0</td>\n",
       "    </tr>\n",
       "    <tr>\n",
       "      <th>camera_23</th>\n",
       "      <td>1.579981e+09</td>\n",
       "      <td>0.0</td>\n",
       "    </tr>\n",
       "    <tr>\n",
       "      <th>camera_24</th>\n",
       "      <td>1.579981e+09</td>\n",
       "      <td>7.0</td>\n",
       "    </tr>\n",
       "    <tr>\n",
       "      <th>camera_3</th>\n",
       "      <td>1.579981e+09</td>\n",
       "      <td>5.0</td>\n",
       "    </tr>\n",
       "    <tr>\n",
       "      <th>camera_4</th>\n",
       "      <td>1.579981e+09</td>\n",
       "      <td>2.0</td>\n",
       "    </tr>\n",
       "    <tr>\n",
       "      <th>camera_5</th>\n",
       "      <td>1.579981e+09</td>\n",
       "      <td>7.0</td>\n",
       "    </tr>\n",
       "    <tr>\n",
       "      <th>camera_6</th>\n",
       "      <td>1.579981e+09</td>\n",
       "      <td>NaN</td>\n",
       "    </tr>\n",
       "    <tr>\n",
       "      <th>camera_7</th>\n",
       "      <td>1.579981e+09</td>\n",
       "      <td>8.0</td>\n",
       "    </tr>\n",
       "    <tr>\n",
       "      <th>camera_8</th>\n",
       "      <td>1.579981e+09</td>\n",
       "      <td>6.0</td>\n",
       "    </tr>\n",
       "    <tr>\n",
       "      <th>camera_9</th>\n",
       "      <td>1.579981e+09</td>\n",
       "      <td>3.0</td>\n",
       "    </tr>\n",
       "  </tbody>\n",
       "</table>\n",
       "</div>"
      ],
      "text/plain": [
       "              timestamp  count\n",
       "name                          \n",
       "camera_1   1.579981e+09    NaN\n",
       "camera_10  1.579981e+09    NaN\n",
       "camera_11  1.579981e+09    2.0\n",
       "camera_12  1.579981e+09    0.0\n",
       "camera_13  1.579981e+09    4.0\n",
       "camera_14  1.579981e+09    7.0\n",
       "camera_15  1.579981e+09    9.0\n",
       "camera_16  1.579981e+09    9.0\n",
       "camera_17  1.579981e+09    9.0\n",
       "camera_18  1.579981e+09    5.0\n",
       "camera_19  1.579981e+09    6.0\n",
       "camera_2   1.579981e+09    4.0\n",
       "camera_20  1.579981e+09    3.0\n",
       "camera_21  1.579981e+09    2.0\n",
       "camera_22  1.579981e+09    5.0\n",
       "camera_23  1.579981e+09    0.0\n",
       "camera_24  1.579981e+09    7.0\n",
       "camera_3   1.579981e+09    5.0\n",
       "camera_4   1.579981e+09    2.0\n",
       "camera_5   1.579981e+09    7.0\n",
       "camera_6   1.579981e+09    NaN\n",
       "camera_7   1.579981e+09    8.0\n",
       "camera_8   1.579981e+09    6.0\n",
       "camera_9   1.579981e+09    3.0"
      ]
     },
     "execution_count": 7,
     "metadata": {},
     "output_type": "execute_result"
    }
   ],
   "source": [
    "oo.reset_index()\n",
    "grouped = oo.groupby('name').max()\n",
    "grouped"
   ]
  },
  {
   "cell_type": "code",
   "execution_count": 37,
   "metadata": {},
   "outputs": [
    {
     "data": {
      "text/plain": [
       "Text(0.5, 1.0, 'people count vs camera position')"
      ]
     },
     "execution_count": 37,
     "metadata": {},
     "output_type": "execute_result"
    },
    {
     "data": {
      "image/png": "[encoded data removed]",
      "text/plain": [
       "<Figure size 432x288 with 1 Axes>"
      ]
     },
     "metadata": {
      "needs_background": "light"
     },
     "output_type": "display_data"
    }
   ],
   "source": [
    "sorted_by_camera = grouped.sort_values('name', )\n",
    "sorted_by_camera.reset_index(inplace=True)\n",
    "chart = sns.barplot(data = sorted_by_camera, x = 'name', y= 'count')\n",
    "chart.set_xticklabels(chart.get_xticklabels(), rotation=90)\n",
    "chart.set_title('people count vs camera position')"
   ]
  },
  {
   "cell_type": "code",
   "execution_count": 33,
   "metadata": {},
   "outputs": [
    {
     "name": "stderr",
     "output_type": "stream",
     "text": [
      "/home/paul/anaconda3/lib/python3.7/site-packages/ipykernel_launcher.py:2: SettingWithCopyWarning: \n",
      "A value is trying to be set on a copy of a slice from a DataFrame.\n",
      "Try using .loc[row_indexer,col_indexer] = value instead\n",
      "\n",
      "See the caveats in the documentation: http://pandas.pydata.org/pandas-docs/stable/indexing.html#indexing-view-versus-copy\n",
      "  \n"
     ]
    }
   ],
   "source": [
    "oo2 = oo.dropna()\n",
    "oo2['timestamp'] = oo2['timestamp'].apply(lambda t: time.strftime(\"%d-%m-%y\", time.localtime(int(t))))\n"
   ]
  },
  {
   "cell_type": "code",
   "execution_count": 48,
   "metadata": {
    "scrolled": true
   },
   "outputs": [
    {
     "data": {
      "text/plain": [
       "Text(0.5, 1.0, 'people count vs hours')"
      ]
     },
     "execution_count": 48,
     "metadata": {},
     "output_type": "execute_result"
    },
    {
     "data": {
      "image/png": "[encoded data removed]",
      "text/plain": [
       "<Figure size 432x288 with 1 Axes>"
      ]
     },
     "metadata": {
      "needs_background": "light"
     },
     "output_type": "display_data"
    }
   ],
   "source": [
    "# oo2[(oo2.name == 'camera_17')].plot(x='timestamp', y='count',kind='line')\n",
    "chart17= sns.barplot(data=oo2[(oo2.name == 'camera_17')], x='timestamp', y='count')\n",
    "chart17.set_xticklabels(chart17.get_xticklabels(), rotation=90)\n",
    "chart17.set_title('people count vs hours')"
   ]
  },
  {
   "cell_type": "code",
   "execution_count": 17,
   "metadata": {},
   "outputs": [
    {
     "data": {
      "text/plain": [
       "<matplotlib.axes._subplots.AxesSubplot at 0x7ff78d288278>"
      ]
     },
     "execution_count": 17,
     "metadata": {},
     "output_type": "execute_result"
    },
    {
     "data": {
      "image/png": "[encoded data removed]",
      "text/plain": [
       "<Figure size 432x288 with 4 Axes>"
      ]
     },
     "metadata": {
      "needs_background": "light"
     },
     "output_type": "display_data"
    }
   ],
   "source": [
    "fig, ax = plt.subplots()\n",
    "ax1 = fig.add_subplot(111)\n",
    "ax2 = fig.add_subplot(211)\n",
    "ax3 = fig.add_subplot(121)\n",
    "\n",
    "oo2[(oo2.name == 'camera_17')].plot(x='timestamp', y='count',kind='line', ax=ax1)\n",
    "oo2[(oo2.name == 'camera_16')].plot(x='timestamp', y='count',kind='line', ax=ax2)\n",
    "oo2[(oo2.name == 'camera_15')].plot(x='timestamp', y='count',kind='line', ax=ax3)"
   ]
  },
  {
   "cell_type": "code",
   "execution_count": null,
   "metadata": {},
   "outputs": [],
   "source": []
  },
  {
   "cell_type": "code",
   "execution_count": null,
   "metadata": {},
   "outputs": [],
   "source": []
  }
 ],
 "metadata": {
  "kernelspec": {
   "display_name": "Python 3",
   "language": "python",
   "name": "python3"
  },
  "language_info": {
   "codemirror_mode": {
    "name": "ipython",
    "version": 3
   },
   "file_extension": ".py",
   "mimetype": "text/x-python",
   "name": "python",
   "nbconvert_exporter": "python",
   "pygments_lexer": "ipython3",
   "version": "3.7.3"
  }
 },
 "nbformat": 4,
 "nbformat_minor": 2
}
